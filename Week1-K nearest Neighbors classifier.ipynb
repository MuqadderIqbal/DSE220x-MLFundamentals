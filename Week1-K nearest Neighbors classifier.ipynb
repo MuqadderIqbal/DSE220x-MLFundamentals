{
 "cells": [
  {
   "cell_type": "markdown",
   "metadata": {},
   "source": [
    "A simple KNN (where k=1). We use the MNIST dataset (60,000 training data points and 10,000 test data points) to label images of digits (0-9) with the proper digit they represent.\n",
    "\n",
    "* #### How do we even represent images? ####\n",
    "    Each image is represented as a 28x28 (=784) pixels vector. Each pixel is represented in gray scale: a value between 0 and 255. 0 means \"total absence\" or \"black\". 255 means \"total presence\" or \"white\". More on gray scale here https://en.wikipedia.org/wiki/Grayscale\n",
    "\n",
    "* #### What will be our approach? ####\n",
    "    We will find the ONE image (because k=1 here) from test set that most closely resembles the one in training set and predict the matching image's label as the predicted output. \n",
    "* #### How will we even calculate the \"closest\" matching image? ####\n",
    "    We will calculate the \"euclidean\" distance between two images to find the \"distance\" between them and use the one with the least distance value for predicting the output label. More about euclidean distance: https://en.wikipedia.org/wiki/Euclidean_distance. Generally, the euclidean distance between two points (x and y) is represented as ||x-y||.\n",
    "* #### How will we establish the accuracy of such an algorithm?####\n",
    "    Since the one nearest neighbor of an obesrvation in the \"training\" set is itself, the error rate of training dataset will be zero and hence not a good indicator of the accuracy. We,instead, use another dataset called the \"test\" set and calculate the fraction of test points that were incorrectly classified. That's called Test Error."
   ]
  },
  {
   "cell_type": "code",
   "execution_count": null,
   "metadata": {},
   "outputs": [],
   "source": []
  }
 ],
 "metadata": {
  "kernelspec": {
   "display_name": "Python 3",
   "language": "python",
   "name": "python3"
  },
  "language_info": {
   "codemirror_mode": {
    "name": "ipython",
    "version": 3
   },
   "file_extension": ".py",
   "mimetype": "text/x-python",
   "name": "python",
   "nbconvert_exporter": "python",
   "pygments_lexer": "ipython3",
   "version": "3.7.4"
  }
 },
 "nbformat": 4,
 "nbformat_minor": 2
}
